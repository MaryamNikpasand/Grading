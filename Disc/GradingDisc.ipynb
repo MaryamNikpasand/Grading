{
  "nbformat": 4,
  "nbformat_minor": 0,
  "metadata": {
    "colab": {
      "name": "GradingDisc.ipynb",
      "provenance": [],
      "collapsed_sections": [],
      "mount_file_id": "1McJNhoyXToE9KyJHKWxLboDu4Y1VLhIp",
      "authorship_tag": "ABX9TyMAEN4C3hlgK+YKPm7Rmuuz",
      "include_colab_link": true
    },
    "kernelspec": {
      "name": "python3",
      "display_name": "Python 3"
    },
    "language_info": {
      "name": "python"
    },
    "accelerator": "GPU"
  },
  "cells": [
    {
      "cell_type": "markdown",
      "metadata": {
        "id": "view-in-github",
        "colab_type": "text"
      },
      "source": [
        "<a href=\"https://colab.research.google.com/github/MaryamNikpasand/Grading/blob/main/Disc/GradingDisc.ipynb\" target=\"_parent\"><img src=\"https://colab.research.google.com/assets/colab-badge.svg\" alt=\"Open In Colab\"/></a>"
      ]
    },
    {
      "cell_type": "code",
      "execution_count": null,
      "metadata": {
        "id": "e8Q8t8LlmbYz",
        "colab": {
          "base_uri": "https://localhost:8080/"
        },
        "outputId": "8c203efc-80c7-4f72-b1f1-1f180c8c9d02"
      },
      "outputs": [
        {
          "output_type": "stream",
          "name": "stdout",
          "text": [
            "Requirement already satisfied: xlrd in /usr/local/lib/python3.7/dist-packages (1.1.0)\n"
          ]
        }
      ],
      "source": [
        "import os\n",
        "import numpy as np\n",
        "import tensorflow as tf\n",
        "!pip install -q -U keras-tuner\n",
        "import keras_tuner as kt\n",
        "import matplotlib.pyplot as plt\n",
        "import random\n",
        "import pandas as pd\n",
        "!pip install xlrd\n",
        "\n",
        "from tensorflow import keras\n",
        "from tensorflow.keras import layers\n",
        "from pathlib import Path\n",
        "from scipy import ndimage\n",
        "from tensorflow.keras import regularizers\n",
        "from tensorflow.keras import initializers\n"
      ]
    },
    {
      "cell_type": "markdown",
      "source": [
        "# data"
      ],
      "metadata": {
        "id": "tHlSJvVVhVaV"
      }
    },
    {
      "cell_type": "code",
      "source": [
        "def read_files(filepath):\n",
        "  \"\"\"Read and load volume\"\"\"\n",
        "  # Read file\n",
        "  scan=plt.imread(filepath)\n",
        "  # plt.imshow(scan, cmap = plt.cm.gray)\n",
        "  # plt.show()\n",
        "  # Get raw data\n",
        "  return scan\n",
        "\n",
        "def normalize(volume):\n",
        "  \"\"\"normalize the volume\n",
        "     Normalize with mean and std of each image\n",
        "  \"\"\"\n",
        "  Mean=np.mean(volume)\n",
        "  Std=np.std(volume)\n",
        "  volume=(volume-Mean)/Std\n",
        "  volume=volume.astype(\"float32\")\n",
        "  return volume\n",
        "\n",
        "def resize_volume(img):\n",
        "  \"\"\"Resize across z-axis\"\"\"\n",
        "  # Set the desired depth\n",
        "  desired_width = 64\n",
        "  desired_height = 64\n",
        "  # Get current depth\n",
        "  current_width = img.shape[0]\n",
        "  current_height = img.shape[-1]\n",
        "  # Compute depth factor\n",
        "  width = current_width / desired_width\n",
        "  height = current_height / desired_height\n",
        "  width_factor = 1 / width\n",
        "  height_factor = 1 / height\n",
        "  # Resize across z-axis\n",
        "  img = ndimage.zoom(img, (width_factor, height_factor), order=1)\n",
        "  # resize_and_rescale = tf.keras.Sequential([\n",
        "  #   layers.experimental.preprocessing.Resizing(desired_width, desired_height, desired_depth)])\n",
        "  # img = resize_and_rescale(tf.expand_dims(img, axis=-1))\n",
        "  return img\n",
        "\n",
        "def process_scan(path):\n",
        "  \"\"\"Read and resize volume\"\"\"\n",
        "  # Read scan\n",
        "  volume=read_files(path)\n",
        "  # Normalize\n",
        "  volume=normalize(volume)\n",
        "  volume=resize_volume(volume)\n",
        "  volume=tf.expand_dims(volume,axis=-1) #  Adding an extra dimension to the images to have them in (x,x,1) format \n",
        "  return volume"
      ],
      "metadata": {
        "id": "ohNs9rTc1xZY"
      },
      "execution_count": null,
      "outputs": []
    },
    {
      "cell_type": "code",
      "source": [
        "\"\"\"\n",
        "Read images path and save them in Disc_path dictionary.\n",
        "shuffle the paths.\n",
        "read the images and process them\n",
        "\"\"\"\n",
        "\n",
        "# Folder \"Disc\" consist of MRI scans having Disc images,\n",
        "Disc_paths = dict()\n",
        "filepath_Disc='/content/drive/MyDrive/PhD/Barocas/grading/LumbarDiscJointScoring_Main/ImageSelection/Discs/Ladd'\n",
        "for x in os.listdir(filepath_Disc):\n",
        "    for y in os.listdir(os.path.join(filepath_Disc,x)):\n",
        "        if x not in Disc_paths:\n",
        "            Disc_paths[x] = [os.path.join(filepath_Disc, x, y)]\n",
        "        else:\n",
        "            Disc_paths[x].append(os.path.join(filepath_Disc, x, y))\n",
        "\n",
        "print(\"Disc['grade1']:: \" + str(len(Disc_paths['grade1'])))\n",
        "print(\"Disc['grade2']:: \" + str(len(Disc_paths['grade2'])))\n",
        "print(\"Disc['grade3']:: \" + str(len(Disc_paths['grade3'])))\n",
        "print(\"Disc['grade4']:: \" + str(len(Disc_paths['grade4'])))\n",
        "print(\"Disc['grade5']:: \" + str(len(Disc_paths['grade5'])))\n",
        "\n",
        "random.shuffle(Disc_paths['grade1'])\n",
        "random.shuffle(Disc_paths['grade2'])\n",
        "random.shuffle(Disc_paths['grade3'])\n",
        "random.shuffle(Disc_paths['grade4'])\n",
        "random.shuffle(Disc_paths['grade5'])\n",
        "\n",
        "# Read and process the scans.\n",
        "Disc_grade1 = np.array([process_scan(path) for path in Disc_paths['grade1']])\n",
        "Disc_grade2 = np.array([process_scan(path) for path in Disc_paths['grade2']])\n",
        "Disc_grade3 = np.array([process_scan(path) for path in Disc_paths['grade3']])\n",
        "Disc_grade4 = np.array([process_scan(path) for path in Disc_paths['grade4']])\n",
        "Disc_grade5 = np.array([process_scan(path) for path in Disc_paths['grade5']])\n",
        "\n"
      ],
      "metadata": {
        "colab": {
          "base_uri": "https://localhost:8080/"
        },
        "id": "fKFoRAI1-9Wf",
        "outputId": "1a015c6a-eed7-48dc-e83f-36b1417cd4fa"
      },
      "execution_count": null,
      "outputs": [
        {
          "output_type": "stream",
          "name": "stdout",
          "text": [
            "Disc['grade1']:: 55\n",
            "Disc['grade2']:: 615\n",
            "Disc['grade3']:: 1002\n",
            "Disc['grade4']:: 876\n",
            "Disc['grade5']:: 85\n"
          ]
        }
      ]
    },
    {
      "cell_type": "code",
      "source": [
        "\"\"\"\n",
        "Save the processed images as np array.\n",
        "Save th Disc_path in a text file (Disc_paths_file.txt)\n",
        "\"\"\"\n",
        "\n",
        "directory = \"3D_CTscan\" # Save the entire model as a SavedModel.\n",
        "# parent_dir = os.getcwd() # Parent Directory path\n",
        "parent_dir = '/content/drive/MyDrive/PhD/Barocas/grading/MyModels/DiscGrade'\n",
        "path = os.path.join(parent_dir, directory) # Path\n",
        "os.makedirs(path,exist_ok=True) # Create the directory\n",
        "\n",
        "np.save(os.path.join(path,'Disc_grade1.npy'), Disc_grade1)\n",
        "np.save(os.path.join(path,'Disc_grade2.npy'), Disc_grade2)\n",
        "np.save(os.path.join(path,'Disc_grade3.npy'), Disc_grade3)\n",
        "np.save(os.path.join(path,'Disc_grade4.npy'), Disc_grade4)\n",
        "np.save(os.path.join(path,'Disc_grade5.npy'), Disc_grade5)\n",
        "\n",
        "\n",
        "textfile = open(os.path.join(path, \"Disc_paths_file.txt\"), \"w\")\n",
        "for element in Disc_paths:\n",
        "    # print(key, '->', a_dict[key])\n",
        "    textfile.write(element + \":\\n\")\n",
        "    for value in Disc_paths[element]:\n",
        "      textfile.write(value + \"\\n\")\n",
        "textfile.close()"
      ],
      "metadata": {
        "id": "YaRPJzUlsBdv",
        "colab": {
          "base_uri": "https://localhost:8080/",
          "height": 235
        },
        "outputId": "dfa4ec57-655c-45b5-ec89-7493bc2b36a4"
      },
      "execution_count": null,
      "outputs": [
        {
          "output_type": "error",
          "ename": "NameError",
          "evalue": "ignored",
          "traceback": [
            "\u001b[0;31m---------------------------------------------------------------------------\u001b[0m",
            "\u001b[0;31mNameError\u001b[0m                                 Traceback (most recent call last)",
            "\u001b[0;32m<ipython-input-3-a47b4723b4ae>\u001b[0m in \u001b[0;36m<module>\u001b[0;34m()\u001b[0m\n\u001b[1;32m      5\u001b[0m \u001b[0mos\u001b[0m\u001b[0;34m.\u001b[0m\u001b[0mmakedirs\u001b[0m\u001b[0;34m(\u001b[0m\u001b[0mpath\u001b[0m\u001b[0;34m,\u001b[0m\u001b[0mexist_ok\u001b[0m\u001b[0;34m=\u001b[0m\u001b[0;32mTrue\u001b[0m\u001b[0;34m)\u001b[0m \u001b[0;31m# Create the directory\u001b[0m\u001b[0;34m\u001b[0m\u001b[0;34m\u001b[0m\u001b[0m\n\u001b[1;32m      6\u001b[0m \u001b[0;34m\u001b[0m\u001b[0m\n\u001b[0;32m----> 7\u001b[0;31m \u001b[0mnp\u001b[0m\u001b[0;34m.\u001b[0m\u001b[0msave\u001b[0m\u001b[0;34m(\u001b[0m\u001b[0mos\u001b[0m\u001b[0;34m.\u001b[0m\u001b[0mpath\u001b[0m\u001b[0;34m.\u001b[0m\u001b[0mjoin\u001b[0m\u001b[0;34m(\u001b[0m\u001b[0mpath\u001b[0m\u001b[0;34m,\u001b[0m\u001b[0;34m'Disc_grade1.npy'\u001b[0m\u001b[0;34m)\u001b[0m\u001b[0;34m,\u001b[0m \u001b[0mDisc_grade1\u001b[0m\u001b[0;34m)\u001b[0m\u001b[0;34m\u001b[0m\u001b[0;34m\u001b[0m\u001b[0m\n\u001b[0m\u001b[1;32m      8\u001b[0m \u001b[0mnp\u001b[0m\u001b[0;34m.\u001b[0m\u001b[0msave\u001b[0m\u001b[0;34m(\u001b[0m\u001b[0mos\u001b[0m\u001b[0;34m.\u001b[0m\u001b[0mpath\u001b[0m\u001b[0;34m.\u001b[0m\u001b[0mjoin\u001b[0m\u001b[0;34m(\u001b[0m\u001b[0mpath\u001b[0m\u001b[0;34m,\u001b[0m\u001b[0;34m'Disc_grade2.npy'\u001b[0m\u001b[0;34m)\u001b[0m\u001b[0;34m,\u001b[0m \u001b[0mDisc_grade2\u001b[0m\u001b[0;34m)\u001b[0m\u001b[0;34m\u001b[0m\u001b[0;34m\u001b[0m\u001b[0m\n\u001b[1;32m      9\u001b[0m \u001b[0mnp\u001b[0m\u001b[0;34m.\u001b[0m\u001b[0msave\u001b[0m\u001b[0;34m(\u001b[0m\u001b[0mos\u001b[0m\u001b[0;34m.\u001b[0m\u001b[0mpath\u001b[0m\u001b[0;34m.\u001b[0m\u001b[0mjoin\u001b[0m\u001b[0;34m(\u001b[0m\u001b[0mpath\u001b[0m\u001b[0;34m,\u001b[0m\u001b[0;34m'Disc_grade3.npy'\u001b[0m\u001b[0;34m)\u001b[0m\u001b[0;34m,\u001b[0m \u001b[0mDisc_grade3\u001b[0m\u001b[0;34m)\u001b[0m\u001b[0;34m\u001b[0m\u001b[0;34m\u001b[0m\u001b[0m\n",
            "\u001b[0;31mNameError\u001b[0m: name 'Disc_grade1' is not defined"
          ]
        }
      ]
    },
    {
      "cell_type": "code",
      "source": [
        "\"\"\"\n",
        "Load the saved processed imagaes so that it is faster to generate data\n",
        "\"\"\"\n",
        "directory = \"3D_CTscan\" # Save the entire model as a SavedModel.\n",
        "parent_dir = '/content/drive/MyDrive/PhD/Barocas/grading/MyModels/DiscGrade'\n",
        "path = os.path.join(parent_dir, directory) # Path\n",
        "\n",
        "lines = []\n",
        "line_number = []\n",
        "Disc_paths = dict()\n",
        "with open(os.path.join(path, \"Disc_paths_file.txt\")) as f:\n",
        "  lines = f.read().splitlines()\n",
        "  for num, l in enumerate(lines, 1):\n",
        "    if 'grade1:' in l:\n",
        "        line_number.append(num)\n",
        "    elif 'grade2:' in l:\n",
        "        line_number.append(num)\n",
        "    elif 'grade3:' in l:\n",
        "        line_number.append(num)\n",
        "    elif 'grade4:' in l:\n",
        "        line_number.append(num)\n",
        "    elif 'grade5:' in l:\n",
        "        line_number.append(num)\n",
        "  Disc_paths = {'grade1': lines[line_number[0]:line_number[1]-1], 'grade2': lines[line_number[1]:line_number[2]-1], 'grade3': lines[line_number[2]:line_number[3]-1], 'grade4': lines[line_number[3]:line_number[4]-1], 'grade5': lines[line_number[4]:]}\n",
        "\n",
        "\n",
        "Disc_grade1 = np.load(os.path.join(path,'Disc_grade1.npy'))\n",
        "Disc_grade2 = np.load(os.path.join(path,'Disc_grade2.npy'))\n",
        "Disc_grade3 = np.load(os.path.join(path,'Disc_grade3.npy'))\n",
        "Disc_grade4 = np.load(os.path.join(path,'Disc_grade4.npy'))\n",
        "Disc_grade5 = np.load(os.path.join(path,'Disc_grade5.npy'))"
      ],
      "metadata": {
        "id": "LTaNzIkk3VYH"
      },
      "execution_count": null,
      "outputs": []
    },
    {
      "cell_type": "code",
      "source": [
        "\"\"\"\n",
        "Generating labels and spliting the data to train, val, test.\n",
        "Saving test paths in a dict so I can load it later for regression model.\n",
        "\"\"\"\n",
        "\n",
        "# For the disc images assign 1-5\n",
        "Disc_grade1_labels=np.array([[1, 0, 0, 0, 0] for _ in range(len(Disc_grade1))])\n",
        "Disc_grade2_labels=np.array([[0, 1, 0, 0, 0] for _ in range(len(Disc_grade2))])\n",
        "Disc_grade3_labels=np.array([[0, 0, 1, 0, 0] for _ in range(len(Disc_grade3))])\n",
        "Disc_grade4_labels=np.array([[0, 0, 0, 1, 0] for _ in range(len(Disc_grade4))])\n",
        "Disc_grade5_labels=np.array([[0, 0, 0, 0, 1] for _ in range(len(Disc_grade5))])\n",
        "\n",
        "Disc_grade1_train_limit=int(len(Disc_paths['grade1'])*.8)\n",
        "Disc_grade2_train_limit=int(len(Disc_paths['grade2'])*.8)\n",
        "Disc_grade3_train_limit=int(len(Disc_paths['grade3'])*.8)\n",
        "Disc_grade4_train_limit=int(len(Disc_paths['grade4'])*.8)\n",
        "Disc_grade5_train_limit=int(len(Disc_paths['grade5'])*.8)\n",
        "\n",
        "Disc_grade1_val_limit=int(len(Disc_paths['grade1'])*.1)+Disc_grade1_train_limit\n",
        "Disc_grade2_val_limit=int(len(Disc_paths['grade2'])*.1)+Disc_grade2_train_limit\n",
        "Disc_grade3_val_limit=int(len(Disc_paths['grade3'])*.1)+Disc_grade3_train_limit\n",
        "Disc_grade4_val_limit=int(len(Disc_paths['grade4'])*.1)+Disc_grade4_train_limit\n",
        "Disc_grade5_val_limit=int(len(Disc_paths['grade5'])*.1)+Disc_grade5_train_limit\n",
        "\n",
        "# Split data in the ratio 70-30 for training and validation.\n",
        "x_train=np.concatenate((Disc_grade1[:Disc_grade1_train_limit],\n",
        "                        Disc_grade2[:Disc_grade2_train_limit],\n",
        "                        Disc_grade3[:Disc_grade3_train_limit],\n",
        "                        Disc_grade4[:Disc_grade4_train_limit],\n",
        "                        Disc_grade5[:Disc_grade5_train_limit]),axis=0)\n",
        "\n",
        "y_train=np.concatenate((Disc_grade1_labels[:Disc_grade1_train_limit],\n",
        "                        Disc_grade2_labels[:Disc_grade2_train_limit],\n",
        "                        Disc_grade3_labels[:Disc_grade3_train_limit],\n",
        "                        Disc_grade4_labels[:Disc_grade4_train_limit],\n",
        "                        Disc_grade5_labels[:Disc_grade5_train_limit]),axis=0)\n",
        "\n",
        "x_val=np.concatenate((Disc_grade1[Disc_grade1_train_limit:Disc_grade1_val_limit],\n",
        "                      Disc_grade2[Disc_grade2_train_limit:Disc_grade2_val_limit],\n",
        "                      Disc_grade3[Disc_grade3_train_limit:Disc_grade3_val_limit],\n",
        "                      Disc_grade4[Disc_grade4_train_limit:Disc_grade4_val_limit],\n",
        "                      Disc_grade5[Disc_grade5_train_limit:Disc_grade5_val_limit]),axis=0)\n",
        "\n",
        "y_val=np.concatenate((Disc_grade1_labels[Disc_grade1_train_limit:Disc_grade1_val_limit],\n",
        "                      Disc_grade2_labels[Disc_grade2_train_limit:Disc_grade2_val_limit],\n",
        "                      Disc_grade3_labels[Disc_grade3_train_limit:Disc_grade3_val_limit],\n",
        "                      Disc_grade4_labels[Disc_grade4_train_limit:Disc_grade4_val_limit],\n",
        "                      Disc_grade5_labels[Disc_grade5_train_limit:Disc_grade5_val_limit]),axis=0)\n",
        "\n",
        "x_test=np.concatenate((Disc_grade1[Disc_grade1_val_limit:],\n",
        "                       Disc_grade2[Disc_grade2_val_limit:],\n",
        "                       Disc_grade3[Disc_grade3_val_limit:],\n",
        "                       Disc_grade4[Disc_grade4_val_limit:],\n",
        "                       Disc_grade5[Disc_grade5_val_limit:],),axis=0)\n",
        "\n",
        "y_test=np.concatenate((Disc_grade1_labels[Disc_grade1_val_limit:],\n",
        "                       Disc_grade2_labels[Disc_grade2_val_limit:],\n",
        "                       Disc_grade3_labels[Disc_grade3_val_limit:],\n",
        "                       Disc_grade4_labels[Disc_grade4_val_limit:],\n",
        "                       Disc_grade5_labels[Disc_grade5_val_limit:]),axis=0)\n",
        "\n",
        "filepath_test = Disc_paths['grade1'][Disc_grade1_val_limit:] + \\\n",
        "                Disc_paths['grade2'][Disc_grade2_val_limit:] + \\\n",
        "                Disc_paths['grade3'][Disc_grade3_val_limit:] + \\\n",
        "                Disc_paths['grade4'][Disc_grade4_val_limit:] + \\\n",
        "                Disc_paths['grade5'][Disc_grade5_val_limit:] \n",
        "\n",
        "print(\n",
        "    \"Number of samples in train, validation and test are %d, %d and %d.\"\n",
        "    % (x_train.shape[0], x_val.shape[0],x_test.shape[0])\n",
        ")\n",
        "\n",
        "# Define data loaders\n",
        "train_loader = tf.data.Dataset.from_tensor_slices((x_train, y_train ))\n",
        "validation_loader = tf.data.Dataset.from_tensor_slices((x_val, y_val))\n",
        "test_loader = tf.data.Dataset.from_tensor_slices((x_test, y_test))\n"
      ],
      "metadata": {
        "colab": {
          "base_uri": "https://localhost:8080/"
        },
        "id": "7Fm8AUCqlB4a",
        "outputId": "a46251a7-0b6c-4b56-db85-f2f8ee2c9344"
      },
      "execution_count": null,
      "outputs": [
        {
          "output_type": "stream",
          "name": "stdout",
          "text": [
            "Number of samples in train, validation and test are 2105, 261 and 267.\n"
          ]
        }
      ]
    },
    {
      "cell_type": "code",
      "source": [
        "\"\"\"\n",
        "save the test path dictionaray in a text file\n",
        "\"\"\"\n",
        "\n",
        "textfile = open(os.path.join(path,\"filepath_test_file.txt\"), \"w\")\n",
        "for element in filepath_test:\n",
        "    textfile.write(element + \"\\n\")\n",
        "textfile.close()"
      ],
      "metadata": {
        "id": "WLgARf4DBRpJ"
      },
      "execution_count": null,
      "outputs": []
    },
    {
      "cell_type": "code",
      "source": [
        "\"\"\"\n",
        "Sanity test\n",
        "\"\"\"\n",
        "\n",
        "plt.figure()\n",
        "for i, fp in enumerate(Disc_paths['grade1'][49:]):\n",
        "  plt.subplot(1, 6, i+1)\n",
        "  plt.imshow(plt.imread(fp)); plt.axis('off')\n",
        "plt.show()\n",
        "\n",
        "plt.figure()\n",
        "for item, label in test_dataset.take(1):\n",
        "  for i in range(6):\n",
        "    plt.subplot(1, 6, i+1)\n",
        "    plt.imshow(item[i, ..., 0]); plt.axis('off')\n",
        "plt.show()\n"
      ],
      "metadata": {
        "colab": {
          "base_uri": "https://localhost:8080/",
          "height": 141
        },
        "id": "ZbcSNe2rnb8-",
        "outputId": "2561dd86-7f48-4d2e-f875-3fee8c991771"
      },
      "execution_count": null,
      "outputs": [
        {
          "output_type": "display_data",
          "data": {
            "image/png": "[encoded data removed]",
            "text/plain": [
              "<Figure size 432x288 with 6 Axes>"
            ]
          },
          "metadata": {
            "needs_background": "light"
          }
        },
        {
          "output_type": "display_data",
          "data": {
            "image/png": "[encoded data removed]",
            "text/plain": [
              "<Figure size 432x288 with 6 Axes>"
            ]
          },
          "metadata": {
            "needs_background": "light"
          }
        }
      ]
    },
    {
      "cell_type": "code",
      "source": [
        "\"\"\"\n",
        "Sanity test\n",
        "\"\"\"\n",
        "\n",
        "plt.figure()\n",
        "for i, fp in enumerate(filepath_test[20:30]):\n",
        "  plt.subplot(1, 10, i+1)\n",
        "  plt.imshow(plt.imread(fp)); plt.axis('off')\n",
        "plt.show()\n",
        "\n",
        "plt.figure()\n",
        "for item, label in test_dataset.take(1):\n",
        "  for i in range(10):\n",
        "    plt.subplot(1, 10, i+1)\n",
        "    plt.imshow(item[i+20, ..., 0]); plt.axis('off')\n",
        "plt.show()"
      ],
      "metadata": {
        "colab": {
          "base_uri": "https://localhost:8080/",
          "height": 101
        },
        "id": "8wMI_j6JsbTz",
        "outputId": "90282299-31f8-460b-d495-c4b5e094f75d"
      },
      "execution_count": null,
      "outputs": [
        {
          "output_type": "display_data",
          "data": {
            "image/png": "[encoded data removed]",
            "text/plain": [
              "<Figure size 432x288 with 10 Axes>"
            ]
          },
          "metadata": {
            "needs_background": "light"
          }
        },
        {
          "output_type": "display_data",
          "data": {
            "image/png": "[encoded data removed]",
            "text/plain": [
              "<Figure size 432x288 with 10 Axes>"
            ]
          },
          "metadata": {
            "needs_background": "light"
          }
        }
      ]
    },
    {
      "cell_type": "markdown",
      "source": [
        "# model"
      ],
      "metadata": {
        "id": "h01mCKhCFBpi"
      }
    },
    {
      "cell_type": "code",
      "source": [
        "\"\"\"\n",
        "Base model definition for hyper parameter tuning\n",
        "\"\"\"\n",
        "\n",
        "def get_model_3D_CTscans(hp):\n",
        "  \"\"\"Build a 2D convolutional neural network model.\"\"\"\n",
        "\n",
        "  image_size=(64,64)\n",
        "  input_shape = image_size + (1,)\n",
        "  model = keras.Sequential([layers.experimental.preprocessing.RandomFlip(\"horizontal\"),\n",
        "                            layers.experimental.preprocessing.RandomRotation(.1)])\n",
        "  model.add(keras.Input(shape=input_shape))\n",
        "  model.add(layers.Conv2D(filters=64,kernel_size=3,strides=1,padding='valid', activation='relu',kernel_regularizer=regularizers.l1_l2(l1=1e-5, l2=1e-4)))\n",
        "  model.add(layers.MaxPool2D(pool_size=2))\n",
        "  model.add(layers.BatchNormalization())\n",
        "\n",
        "  for i in range(hp.Int(\"num_layers\", 1, 6)):\n",
        "    model.add(\n",
        "          layers.Conv2D(\n",
        "              # Tune number of filters separately.\n",
        "              filters=hp.Int(f\"filters_{i}\",  min_value=32, max_value=512, step=32),\n",
        "              kernel_size=3,\n",
        "              activation=hp.Choice(\"activation\", [\"relu\", \"tanh\", \"elu\"]),\n",
        "              # activation = hp.Choice(name = 'activation', values = ['relu', 'tanh', 'elu'], ordered = False),\n",
        "              kernel_regularizer=regularizers.l1_l2(l1=hp.Float(\"l1\", min_value=1e-5, max_value=1e-4, sampling=\"log\"),\n",
        "                                                    l2=hp.Float(\"l2\", min_value=1e-5, max_value=1e-4, sampling=\"log\")),\n",
        "              padding='same'        \n",
        "          ))\n",
        "    model.add(layers.MaxPool2D(pool_size=2, padding='same'))\n",
        "    model.add(layers.BatchNormalization())\n",
        "\n",
        "  model.add(layers.GlobalAveragePooling2D())\n",
        "\n",
        "  for i in range(hp.Int(\"num_layers\", 1, 6)):\n",
        "    model.add(\n",
        "          layers.Dense(\n",
        "              # Tune number of units separately.\n",
        "              units=hp.Int(f\"units_{i}\", min_value=32, max_value=512, step=32),\n",
        "              activation=hp.Choice(\"activation\", [\"relu\", \"tanh\"]),\n",
        "              kernel_regularizer=regularizers.l2(.001)\n",
        "          )\n",
        "     )\n",
        "  \n",
        "  if hp.Boolean(\"dropout\"):\n",
        "        model.add(layers.Dropout(rate=0.25))\n",
        "  \n",
        "  model.add(layers.Dense(5, activation=\"softmax\"))\n",
        "  learning_rate = hp.Float(\"lr\", min_value=1e-4, max_value=1e-2, sampling=\"log\")\n",
        "\n",
        "  model.compile(\n",
        "      optimizer=keras.optimizers.Adam(learning_rate=learning_rate),\n",
        "      loss=\"binary_crossentropy\",\n",
        "      metrics=[\"accuracy\"],\n",
        "  )\n",
        "\n",
        "  return model\n",
        "\n",
        "\n",
        "\n",
        "model = get_model_3D_CTscans(kt.HyperParameters())\n",
        "model.build(input_shape=(None, 64, 64, 1))\n",
        "model.summary()\n"
      ],
      "metadata": {
        "id": "734xK1pmb6YC",
        "colab": {
          "base_uri": "https://localhost:8080/"
        },
        "outputId": "55dbe8c5-1049-4cd6-a0f7-a556139bd982"
      },
      "execution_count": null,
      "outputs": [
        {
          "output_type": "stream",
          "name": "stdout",
          "text": [
            "Model: \"sequential\"\n",
            "_________________________________________________________________\n",
            " Layer (type)                Output Shape              Param #   \n",
            "=================================================================\n",
            " random_flip (RandomFlip)    (None, 64, 64, 1)         0         \n",
            "                                                                 \n",
            " random_rotation (RandomRota  (None, 64, 64, 1)        0         \n",
            " tion)                                                           \n",
            "                                                                 \n",
            " input_1 (InputLayer)        multiple                  0         \n",
            "                                                                 \n",
            " conv2d (Conv2D)             (None, 62, 62, 64)        640       \n",
            "                                                                 \n",
            " max_pooling2d (MaxPooling2D  (None, 31, 31, 64)       0         \n",
            " )                                                               \n",
            "                                                                 \n",
            " batch_normalization (BatchN  (None, 31, 31, 64)       256       \n",
            " ormalization)                                                   \n",
            "                                                                 \n",
            " conv2d_1 (Conv2D)           (None, 31, 31, 32)        18464     \n",
            "                                                                 \n",
            " max_pooling2d_1 (MaxPooling  (None, 16, 16, 32)       0         \n",
            " 2D)                                                             \n",
            "                                                                 \n",
            " batch_normalization_1 (Batc  (None, 16, 16, 32)       128       \n",
            " hNormalization)                                                 \n",
            "                                                                 \n",
            " global_average_pooling2d (G  (None, 32)               0         \n",
            " lobalAveragePooling2D)                                          \n",
            "                                                                 \n",
            " dense (Dense)               (None, 32)                1056      \n",
            "                                                                 \n",
            " dense_1 (Dense)             (None, 5)                 165       \n",
            "                                                                 \n",
            "=================================================================\n",
            "Total params: 20,709\n",
            "Trainable params: 20,517\n",
            "Non-trainable params: 192\n",
            "_________________________________________________________________\n"
          ]
        }
      ]
    },
    {
      "cell_type": "code",
      "source": [
        "\"\"\"\n",
        "Tuner\n",
        "\"\"\"\n",
        "\n",
        "tuner = kt.BayesianOptimization(\n",
        "    hypermodel=get_model_3D_CTscans,\n",
        "    objective=\"val_accuracy\",\n",
        "    max_trials=100,\n",
        "    alpha=0.0001,\n",
        "    beta=2.6,\n",
        "    directory=\"3D_CTscan\",\n",
        "    project_name=\"DiscGrading_hp\",\n",
        ")\n",
        "\n",
        "tuner.search_space_summary()\n"
      ],
      "metadata": {
        "colab": {
          "base_uri": "https://localhost:8080/"
        },
        "id": "W_6FI5snDbet",
        "outputId": "0b01161d-1604-4481-b833-a8c260b87c9a"
      },
      "execution_count": null,
      "outputs": [
        {
          "output_type": "stream",
          "name": "stdout",
          "text": [
            "Search space summary\n",
            "Default search space size: 8\n",
            "num_layers (Int)\n",
            "{'default': None, 'conditions': [], 'min_value': 1, 'max_value': 6, 'step': 1, 'sampling': None}\n",
            "filters_0 (Int)\n",
            "{'default': None, 'conditions': [], 'min_value': 32, 'max_value': 512, 'step': 32, 'sampling': None}\n",
            "activation (Choice)\n",
            "{'default': 'relu', 'conditions': [], 'values': ['relu', 'tanh', 'elu'], 'ordered': False}\n",
            "l1 (Float)\n",
            "{'default': 1e-05, 'conditions': [], 'min_value': 1e-05, 'max_value': 0.0001, 'step': None, 'sampling': 'log'}\n",
            "l2 (Float)\n",
            "{'default': 1e-05, 'conditions': [], 'min_value': 1e-05, 'max_value': 0.0001, 'step': None, 'sampling': 'log'}\n",
            "units_0 (Int)\n",
            "{'default': None, 'conditions': [], 'min_value': 32, 'max_value': 512, 'step': 32, 'sampling': None}\n",
            "dropout (Boolean)\n",
            "{'default': False, 'conditions': []}\n",
            "lr (Float)\n",
            "{'default': 0.0001, 'conditions': [], 'min_value': 0.0001, 'max_value': 0.01, 'step': None, 'sampling': 'log'}\n"
          ]
        }
      ]
    },
    {
      "cell_type": "code",
      "source": [
        "\"\"\"\n",
        "Search for best hyper parameters\n",
        "\"\"\"\n",
        "tuner.search(x_train, y_train, epochs=100, validation_data=(x_val, y_val))\n",
        "# tuner.search(train_dataset,\n",
        "#              steps_per_epoch=batch_size,\n",
        "#              validation_data=validation_dataset,\n",
        "#              validation_steps=8,\n",
        "#              epochs=100,\n",
        "#              initial_epoch=0)"
      ],
      "metadata": {
        "colab": {
          "base_uri": "https://localhost:8080/"
        },
        "id": "8FulmqLAEgo-",
        "outputId": "04a198ea-052c-4ed6-abb3-ded134d55fdc"
      },
      "execution_count": null,
      "outputs": [
        {
          "output_type": "stream",
          "name": "stdout",
          "text": [
            "Trial 100 Complete [00h 02m 02s]\n",
            "val_accuracy: 0.7931034564971924\n",
            "\n",
            "Best val_accuracy So Far: 0.8122605085372925\n",
            "Total elapsed time: 04h 32m 00s\n",
            "INFO:tensorflow:Oracle triggered exit\n"
          ]
        }
      ]
    },
    {
      "cell_type": "code",
      "source": [
        "# !rm -rf 3D_CTscan"
      ],
      "metadata": {
        "id": "vFUpoziIssZJ"
      },
      "execution_count": null,
      "outputs": []
    },
    {
      "cell_type": "code",
      "source": [
        "tuner.results_summary()"
      ],
      "metadata": {
        "colab": {
          "base_uri": "https://localhost:8080/"
        },
        "id": "C1r30oNgQBp6",
        "outputId": "97f91228-0485-48cf-ba67-2b77420c0023"
      },
      "execution_count": null,
      "outputs": [
        {
          "output_type": "stream",
          "name": "stdout",
          "text": [
            "Results summary\n",
            "Results in 3D_CTscan/DiscGrading_hp\n",
            "Showing 10 best trials\n",
            "Objective(name='val_accuracy', direction='max')\n",
            "Trial summary\n",
            "Hyperparameters:\n",
            "num_layers: 6\n",
            "filters_0: 512\n",
            "activation: elu\n",
            "l1: 1e-05\n",
            "l2: 1e-05\n",
            "units_0: 512\n",
            "dropout: False\n",
            "lr: 0.0001\n",
            "filters_1: 512\n",
            "units_1: 512\n",
            "filters_2: 32\n",
            "filters_3: 32\n",
            "filters_4: 32\n",
            "filters_5: 32\n",
            "units_2: 512\n",
            "units_3: 32\n",
            "units_4: 480\n",
            "units_5: 512\n",
            "Score: 0.8122605085372925\n",
            "Trial summary\n",
            "Hyperparameters:\n",
            "num_layers: 6\n",
            "filters_0: 320\n",
            "activation: relu\n",
            "l1: 7.374636443070327e-05\n",
            "l2: 7.611088068533377e-05\n",
            "units_0: 32\n",
            "dropout: False\n",
            "lr: 0.002051475801964024\n",
            "filters_1: 32\n",
            "units_1: 512\n",
            "filters_2: 32\n",
            "filters_3: 32\n",
            "filters_4: 32\n",
            "filters_5: 32\n",
            "units_2: 32\n",
            "units_3: 32\n",
            "units_4: 32\n",
            "units_5: 32\n",
            "Score: 0.8045976758003235\n",
            "Trial summary\n",
            "Hyperparameters:\n",
            "num_layers: 6\n",
            "filters_0: 512\n",
            "activation: elu\n",
            "l1: 1e-05\n",
            "l2: 1e-05\n",
            "units_0: 512\n",
            "dropout: False\n",
            "lr: 0.0001\n",
            "filters_1: 512\n",
            "units_1: 512\n",
            "filters_2: 512\n",
            "filters_3: 32\n",
            "filters_4: 32\n",
            "filters_5: 512\n",
            "units_2: 32\n",
            "units_3: 32\n",
            "units_4: 32\n",
            "units_5: 512\n",
            "Score: 0.8045976758003235\n",
            "Trial summary\n",
            "Hyperparameters:\n",
            "num_layers: 6\n",
            "filters_0: 512\n",
            "activation: elu\n",
            "l1: 0.0001\n",
            "l2: 0.0001\n",
            "units_0: 32\n",
            "dropout: False\n",
            "lr: 0.0021880701590852496\n",
            "filters_1: 32\n",
            "units_1: 512\n",
            "filters_2: 32\n",
            "filters_3: 32\n",
            "filters_4: 32\n",
            "filters_5: 32\n",
            "units_2: 32\n",
            "units_3: 32\n",
            "units_4: 32\n",
            "units_5: 32\n",
            "Score: 0.8007662892341614\n",
            "Trial summary\n",
            "Hyperparameters:\n",
            "num_layers: 6\n",
            "filters_0: 384\n",
            "activation: elu\n",
            "l1: 1e-05\n",
            "l2: 1e-05\n",
            "units_0: 512\n",
            "dropout: False\n",
            "lr: 0.0001\n",
            "filters_1: 512\n",
            "units_1: 512\n",
            "filters_2: 32\n",
            "filters_3: 32\n",
            "filters_4: 32\n",
            "filters_5: 32\n",
            "units_2: 512\n",
            "units_3: 32\n",
            "units_4: 480\n",
            "units_5: 512\n",
            "Score: 0.7969348430633545\n",
            "Trial summary\n",
            "Hyperparameters:\n",
            "num_layers: 6\n",
            "filters_0: 512\n",
            "activation: elu\n",
            "l1: 1e-05\n",
            "l2: 1e-05\n",
            "units_0: 512\n",
            "dropout: False\n",
            "lr: 0.0001\n",
            "filters_1: 512\n",
            "units_1: 512\n",
            "filters_2: 512\n",
            "filters_3: 32\n",
            "filters_4: 32\n",
            "filters_5: 512\n",
            "units_2: 352\n",
            "units_3: 32\n",
            "units_4: 32\n",
            "units_5: 512\n",
            "Score: 0.7969348430633545\n",
            "Trial summary\n",
            "Hyperparameters:\n",
            "num_layers: 6\n",
            "filters_0: 512\n",
            "activation: elu\n",
            "l1: 1e-05\n",
            "l2: 1e-05\n",
            "units_0: 512\n",
            "dropout: True\n",
            "lr: 0.0001\n",
            "filters_1: 512\n",
            "units_1: 512\n",
            "filters_2: 512\n",
            "filters_3: 32\n",
            "filters_4: 32\n",
            "filters_5: 512\n",
            "units_2: 64\n",
            "units_3: 32\n",
            "units_4: 32\n",
            "units_5: 512\n",
            "Score: 0.7969348430633545\n",
            "Trial summary\n",
            "Hyperparameters:\n",
            "num_layers: 6\n",
            "filters_0: 512\n",
            "activation: elu\n",
            "l1: 1e-05\n",
            "l2: 1e-05\n",
            "units_0: 512\n",
            "dropout: False\n",
            "lr: 0.0001\n",
            "filters_1: 512\n",
            "units_1: 512\n",
            "filters_2: 224\n",
            "filters_3: 32\n",
            "filters_4: 32\n",
            "filters_5: 224\n",
            "units_2: 32\n",
            "units_3: 32\n",
            "units_4: 32\n",
            "units_5: 512\n",
            "Score: 0.7931034564971924\n",
            "Trial summary\n",
            "Hyperparameters:\n",
            "num_layers: 6\n",
            "filters_0: 512\n",
            "activation: elu\n",
            "l1: 1e-05\n",
            "l2: 1e-05\n",
            "units_0: 416\n",
            "dropout: False\n",
            "lr: 0.0001\n",
            "filters_1: 512\n",
            "units_1: 512\n",
            "filters_2: 32\n",
            "filters_3: 32\n",
            "filters_4: 32\n",
            "filters_5: 32\n",
            "units_2: 512\n",
            "units_3: 32\n",
            "units_4: 512\n",
            "units_5: 512\n",
            "Score: 0.7931034564971924\n",
            "Trial summary\n",
            "Hyperparameters:\n",
            "num_layers: 6\n",
            "filters_0: 512\n",
            "activation: relu\n",
            "l1: 1e-05\n",
            "l2: 0.0001\n",
            "units_0: 512\n",
            "dropout: False\n",
            "lr: 0.0001\n",
            "filters_1: 32\n",
            "units_1: 512\n",
            "filters_2: 512\n",
            "filters_3: 32\n",
            "filters_4: 512\n",
            "filters_5: 32\n",
            "units_2: 512\n",
            "units_3: 512\n",
            "units_4: 512\n",
            "units_5: 32\n",
            "Score: 0.7931034564971924\n"
          ]
        }
      ]
    },
    {
      "cell_type": "code",
      "source": [
        "\"\"\"\n",
        "loading the model with the best hyper parameters and training it \n",
        "\"\"\"\n",
        "\n",
        "# Get the top 2 hyperparameters.\n",
        "best_hps = tuner.get_best_hyperparameters()\n",
        "# Build the model with the best hp.\n",
        "model = get_model_3D_CTscans(best_hps[0])\n",
        "print(model.get_config())\n",
        "model.build(input_shape=(None, 64, 64, 1))\n",
        "model.summary()\n",
        "# Fit with the entire dataset.\n",
        "x_all = np.concatenate((x_train, x_val))\n",
        "y_all = np.concatenate((y_train, y_val))\n",
        "# model.fit(x=x_all, y=y_all, epochs=100)\n",
        "checkpoint_path = Path(os.path.join(path,'2d_image_classification.h5'))\n",
        "checkpoint_cb=keras.callbacks.ModelCheckpoint(filepath=checkpoint_path,monitor='val_accuracy',save_best_only=True)\n",
        "\n",
        "epochs=100\n",
        "history=model.fit(\n",
        "    x=x_all, y=y_all,\n",
        "    validation_data=(x_test,y_test),\n",
        "    epochs=epochs,\n",
        "    shuffle=True,\n",
        "    verbose=2,\n",
        "    callbacks=[checkpoint_cb],\n",
        ")\n",
        "\n"
      ],
      "metadata": {
        "id": "_id-LS2TQP-6"
      },
      "execution_count": null,
      "outputs": []
    },
    {
      "cell_type": "code",
      "source": [
        "\"\"\"\n",
        "If you have not searched for best tuned model in this session, run this section\n",
        "to load the most recent tuned model and train it \n",
        "\"\"\"\n",
        "\n",
        "checkpoint_path = Path(os.path.join(path,'2d_image_classification.h5'))\n",
        "best_model = keras.models.load_model(checkpoint_path)\n",
        "best_model_clone = tf.keras.models.clone_model(best_model)\n",
        "best_model_clone.compile(\n",
        "    optimizer=keras.optimizers.Adam(learning_rate=1e-4),\n",
        "    loss=\"binary_crossentropy\",\n",
        "    metrics=[\"accuracy\"],\n",
        ")\n",
        "\n",
        "checkpoint_path_after = Path(os.path.join(path,'2d_image_classification1.h5'))\n",
        "checkpoint_cb12=keras.callbacks.ModelCheckpoint(filepath=checkpoint_path_after,monitor='val_accuracy',save_best_only=True)\n",
        "\n",
        "# Fit with the entire dataset.\n",
        "x_all = np.concatenate((x_train, x_val))\n",
        "y_all = np.concatenate((y_train, y_val))\n",
        "epochs=100\n",
        "history=best_model_clone.fit(\n",
        "    x=x_all, y=y_all,\n",
        "    validation_data=(x_test,y_test),\n",
        "    epochs=epochs,\n",
        "    shuffle=True,\n",
        "    verbose=2,\n",
        "    callbacks=[checkpoint_cb12],\n",
        ")"
      ],
      "metadata": {
        "id": "iNHm7G7AcTZu"
      },
      "execution_count": null,
      "outputs": []
    },
    {
      "cell_type": "code",
      "source": [
        "best_model_clone.summary()"
      ],
      "metadata": {
        "id": "lBOluCgndtnK"
      },
      "execution_count": null,
      "outputs": []
    },
    {
      "cell_type": "code",
      "source": [
        "\"\"\"\n",
        "If you just want to check with your best trained model run this\n",
        "\"\"\"\n",
        "directory = \"3D_CTscan\" # Save the entire model as a SavedModel.\n",
        "# parent_dir = os.getcwd() # Parent Directory path\n",
        "parent_dir = '/content/drive/MyDrive/PhD/Barocas/grading/MyModels/DiscGrade'\n",
        "path = os.path.join(parent_dir, directory) # Path\n",
        "\n",
        "checkpoint_path_after = Path(os.path.join(path,'2d_image_classification1.h5'))\n",
        "best_model_clone = keras.models.load_model(checkpoint_path_after)\n",
        "best_model_clone.evaluate(x=x_test, y=y_test)\n"
      ],
      "metadata": {
        "id": "d8nLYmIxVwMk",
        "colab": {
          "base_uri": "https://localhost:8080/"
        },
        "outputId": "8951debc-a570-468c-8e41-7ddceca39e54"
      },
      "execution_count": null,
      "outputs": [
        {
          "output_type": "stream",
          "name": "stdout",
          "text": [
            "9/9 [==============================] - 9s 40ms/step - loss: 0.4114 - accuracy: 0.7828\n"
          ]
        },
        {
          "output_type": "execute_result",
          "data": {
            "text/plain": [
              "[0.41144242882728577, 0.7827715277671814]"
            ]
          },
          "metadata": {},
          "execution_count": 4
        }
      ]
    },
    {
      "cell_type": "code",
      "source": [
        "# save the results from the classification model\n",
        "classification_predictions = np.argmax(best_model_clone.predict(x_test), axis=1)+1  # +1 because indexing starts at zero \n",
        "\n",
        "y_test_cat = np.where(y_test!=0)[1]+1\n",
        "\n",
        "test_results_df = pd.DataFrame(data={'class_pred':classification_predictions, 'label':y_test_cat})\n",
        "test_results_df.to_csv(os.path.join(path,'classification_test_results.csv'))"
      ],
      "metadata": {
        "id": "g8GwfsgIuwCI"
      },
      "execution_count": null,
      "outputs": []
    },
    {
      "cell_type": "code",
      "source": [
        "y_test_cat[:10]"
      ],
      "metadata": {
        "colab": {
          "base_uri": "https://localhost:8080/"
        },
        "id": "hbu_n3tzwos3",
        "outputId": "64621d62-2d56-4d65-8cbb-0b3202f42686"
      },
      "execution_count": null,
      "outputs": [
        {
          "output_type": "execute_result",
          "data": {
            "text/plain": [
              "array([1, 1, 1, 1, 1, 1, 2, 2, 2, 2])"
            ]
          },
          "metadata": {},
          "execution_count": 45
        }
      ]
    },
    {
      "cell_type": "code",
      "source": [
        "print(history.history.keys())\n",
        "\n",
        "# summarize history for accuracy\n",
        "plt.plot(history.history['accuracy'])\n",
        "plt.plot(history.history['val_accuracy'])\n",
        "plt.title('model accuracy')\n",
        "plt.ylabel('accuracy')\n",
        "plt.xlabel('epoch')\n",
        "plt.legend(['train', 'test'], loc='upper left')\n",
        "plt.savefig(os.path.join(path,'accuracy.png'))\n",
        "plt.show()\n"
      ],
      "metadata": {
        "colab": {
          "base_uri": "https://localhost:8080/",
          "height": 312
        },
        "id": "1sIiXG0hS3sv",
        "outputId": "5bb737eb-0a4f-489c-eb89-6b4aaf588518"
      },
      "execution_count": null,
      "outputs": [
        {
          "output_type": "stream",
          "name": "stdout",
          "text": [
            "dict_keys(['loss', 'accuracy', 'val_loss', 'val_accuracy'])\n"
          ]
        },
        {
          "output_type": "display_data",
          "data": {
            "image/png": "[encoded data removed]",
            "text/plain": [
              "<Figure size 432x288 with 1 Axes>"
            ]
          },
          "metadata": {
            "needs_background": "light"
          }
        }
      ]
    },
    {
      "cell_type": "code",
      "source": [
        "# summarize history for loss\n",
        "plt.plot(history.history['loss'])\n",
        "plt.plot(history.history['val_loss'])\n",
        "plt.title('model loss')\n",
        "plt.ylabel('loss')\n",
        "plt.xlabel('epoch')\n",
        "plt.legend(['train', 'test'], loc='upper left')\n",
        "plt.show()\n"
      ],
      "metadata": {
        "colab": {
          "base_uri": "https://localhost:8080/",
          "height": 295
        },
        "id": "jUBJmh6MS2CT",
        "outputId": "08cf6829-7bcd-4594-f0d8-a3beda886736"
      },
      "execution_count": null,
      "outputs": [
        {
          "output_type": "display_data",
          "data": {
            "image/png": "[encoded data removed]",
            "text/plain": [
              "<Figure size 432x288 with 1 Axes>"
            ]
          },
          "metadata": {
            "needs_background": "light"
          }
        }
      ]
    },
    {
      "cell_type": "code",
      "source": [
        "\"\"\"\n",
        "Error analysis to see which images were mislabeled and what was the predicted and ground truth labels.\n",
        "Save the images in error analysis folder.\n",
        "Save a dictionary (file_path_error) containig the indices of mislabeld test images associated to their groups\n",
        "\"\"\"\n",
        "\n",
        "directory = \"error_analysis\" # Save the entire model as a SavedModel.\n",
        "parent_dir = path\n",
        "fig_path = os.path.join(parent_dir, directory) # Path\n",
        "os.makedirs(fig_path,exist_ok=True) # Create the directory\n",
        "\n",
        "\n",
        "it = iter(test_dataset)\n",
        "file_path_error = {'1':[], '2':[], '3':[], '4':[]}\n",
        "\n",
        "\n",
        "ct = 0\n",
        "for test_item, test_label in it:\n",
        "  ct+=1\n",
        "  predicted_label = best_model.predict(test_item)\n",
        "  diff = (np.round(predicted_label, 0) - test_label).numpy()\n",
        "  \n",
        "  for i in range(diff.shape[0]):\n",
        "    if np.any(diff[i]!=0):\n",
        "      print(diff[i])\n",
        "      if np.sum(diff[i])!=0:  # [0, -1, 0, 0, 0] not sure at all (nothing >= 0.5)\n",
        "        file_name = '4_not_sure'\n",
        "        file_path_error['4'].append((ct-1)*32+i) \n",
        "      else:\n",
        "        ix_n1 = np.squeeze(np.where(diff[i]==-1))\n",
        "        ix_p1 = np.squeeze(np.where(diff[i]==+1))\n",
        "        if np.abs(ix_n1-ix_p1)>1: \n",
        "          file_name = '3_very_wrong'  # [0, -1, 0, 1, 0] more than 1 grade wrong\n",
        "          file_path_error['3'].append((ct-1)*32+i) \n",
        "        else:\n",
        "          if np.any(predicted_label[i]>=0.75): # if confidence in one specific grade is above 75%\n",
        "            file_name = '1_one_class_wrong_high_confidence'  # [0, -1, +1, 0, 0] exactly 1 grade wrong\n",
        "            file_path_error['1'].append((ct-1)*32+i) \n",
        "          else:\n",
        "            file_name = '2_one_class_wrong_low_confidence_almost_right'\n",
        "            file_path_error['2'].append((ct-1)*32+i) \n",
        "    \n",
        "      plt.figure()\n",
        "      plt.imshow(test_item[i, ..., 0], cmap=plt.cm.gray); plt.axis('off')\n",
        "      plt.title(f'pred, {np.round(predicted_label[i], 1)} lab, {test_label[i]}')\n",
        "      plt.savefig(fname = Path(fig_path).joinpath(f'{file_name}_{ct}_{i}.png')) # ct: batch number, i: item number in the batch\n",
        "      plt.close()\n",
        "      # print(np.round(predicted_label[i], 1))\n",
        "      # plt.imshow(test_item[i, ..., 0], cmap=plt.cm.gray); plt.axis('off')\n",
        "      # plt.show()\n",
        "\n",
        "print(file_path_error)"
      ],
      "metadata": {
        "id": "tRRWarcaUIzx",
        "colab": {
          "base_uri": "https://localhost:8080/"
        },
        "outputId": "c616f7ac-7abe-434d-c9e2-b8b69e9c7ab0"
      },
      "execution_count": null,
      "outputs": [
        {
          "output_type": "stream",
          "name": "stdout",
          "text": [
            "[-1  1  0  0  0]\n",
            "[-1  0  1  0  0]\n",
            "[-1  0  1  0  0]\n",
            "[-1  0  0  0  0]\n",
            "[-1  1  0  0  0]\n",
            "[-1  0  0  0  0]\n",
            "[ 0 -1  1  0  0]\n",
            "[ 0 -1  1  0  0]\n",
            "[ 0 -1  1  0  0]\n",
            "[ 0 -1  1  0  0]\n",
            "[ 0 -1  1  0  0]\n",
            "[ 0 -1  0  0  0]\n",
            "[ 0 -1  1  0  0]\n",
            "[ 0 -1  1  0  0]\n",
            "[ 0 -1  1  0  0]\n",
            "[ 0 -1  1  0  0]\n",
            "[ 0 -1  1  0  0]\n",
            "[ 0 -1  1  0  0]\n",
            "[ 0 -1  1  0  0]\n",
            "[ 0 -1  1  0  0]\n",
            "[ 0 -1  1  0  0]\n",
            "[ 0 -1  1  0  0]\n",
            "[ 0  1 -1  0  0]\n",
            "[ 0  1 -1  0  0]\n",
            "[ 0  1 -1  0  0]\n",
            "[ 0  0 -1  1  0]\n",
            "[ 0  1 -1  0  0]\n",
            "[ 0  0 -1  1  0]\n",
            "[ 0  1 -1  0  0]\n",
            "[ 0  0 -1  1  0]\n",
            "[ 0  1 -1  0  0]\n",
            "[ 0  1 -1  0  0]\n",
            "[ 0  0 -1  0  0]\n",
            "[ 0  0 -1  1  0]\n",
            "[ 0  1 -1  0  0]\n",
            "[ 0  0 -1  1  0]\n",
            "[ 0  0 -1  1  0]\n",
            "[ 0  1 -1  0  0]\n",
            "[ 0  0 -1  1  0]\n",
            "[ 0  0 -1  1  0]\n",
            "[ 0  1 -1  0  0]\n",
            "[ 0  0 -1  1  0]\n",
            "[ 0  0 -1  1  0]\n",
            "[ 0  1 -1  0  0]\n",
            "[ 0  0 -1  1  0]\n",
            "[ 0  0 -1  1  0]\n",
            "[ 0  0 -1  1  0]\n",
            "[ 0  0  1 -1  0]\n",
            "[ 0  0  1 -1  0]\n",
            "[ 0  0  1 -1  0]\n",
            "[ 0  0  1 -1  0]\n",
            "[ 0  0  0 -1  1]\n",
            "[ 0  0  1 -1  0]\n",
            "[ 0  0  1 -1  0]\n",
            "[ 0  0  1 -1  0]\n",
            "[ 0  0  1 -1  0]\n",
            "[ 0  0  0  1 -1]\n",
            "[ 0  0  1  0 -1]\n",
            "[ 0  0  0  1 -1]\n",
            "[ 0  0  0  1 -1]\n",
            "{'1': [0, 4, 21, 27, 37, 51, 54, 55, 62, 64, 66, 74, 79, 80, 82, 84, 92, 95, 99, 120, 151, 155, 159, 161, 164, 167, 178, 182, 184, 206, 226, 239, 240, 262], '2': [11, 25, 26, 42, 50, 57, 97, 98, 104, 107, 119, 127, 130, 162, 166, 193, 211, 258, 263], '3': [1, 2, 259], '4': [3, 5, 29, 102]}\n"
          ]
        }
      ]
    },
    {
      "cell_type": "code",
      "source": [
        "\"\"\"\n",
        "find the paths to mislabeled images\n",
        "\"\"\"\n",
        "\n",
        "filepath_test = np.array(filepath_test)\n",
        "path_to_err_type_1_and_2 =filepath_test[file_path_error['1']+file_path_error['2']]\n",
        "path_to_err_type_3 =filepath_test[file_path_error['3']]\n",
        "path_to_err_type_4 =filepath_test[file_path_error['4']]\n",
        "\n",
        "textfile = open(os.path.join(path,\"path_to_err_type_1_and_2.txt\"), \"w\")\n",
        "for element in path_to_err_type_1_and_2:\n",
        "    textfile.write(element + \"\\n\")\n",
        "textfile.close()\n",
        "\n",
        "textfile = open(os.path.join(path,\"path_to_err_type_3.txt\"), \"w\")\n",
        "for element in path_to_err_type_3:\n",
        "    textfile.write(element + \"\\n\")\n",
        "textfile.close()\n",
        "\n",
        "textfile = open(os.path.join(path,\"path_to_err_type_4.txt\"), \"w\")\n",
        "for element in path_to_err_type_4:\n",
        "    textfile.write(element + \"\\n\")\n",
        "textfile.close()\n"
      ],
      "metadata": {
        "id": "vmeYQhiM6Fhm"
      },
      "execution_count": null,
      "outputs": []
    },
    {
      "cell_type": "code",
      "source": [
        "with open(os.path.join(path,\"path_to_err_type_1_and_2.txt\")) as f:\n",
        "  err_type_1_and_2 = f.read().splitlines() \n",
        "\n",
        "name_err_type_1_and_2 = []\n",
        "level_err_type_1_and_2 = []\n",
        "for i, element in enumerate(err_type_1_and_2):\n",
        "  info = element.split('/')[-1].split(' ')\n",
        "  name_err_type_1_and_2.append(info[0])\n",
        "  level_err_type_1_and_2.append(info[1].split('.')[0])\n",
        "  \n",
        "print(name_err_type_1_and_2)\n",
        "print(level_err_type_1_and_2)\n",
        "\n",
        "with open(os.path.join(path,\"path_to_err_type_3.txt\")) as f:\n",
        "  err_type_3 = f.read().splitlines() \n",
        "\n",
        "name_err_type_3 = []\n",
        "level_err_type_3 = []\n",
        "for i, element in enumerate(err_type_3):\n",
        "  info = element.split('/')[-1].split(' ')\n",
        "  name_err_type_3.append(info[0])\n",
        "  level_err_type_3.append(info[1].split('.')[0])\n",
        "  \n",
        "print(name_err_type_3)\n",
        "print(level_err_type_3)\n",
        "\n",
        "with open(os.path.join(path,\"path_to_err_type_4.txt\")) as f:\n",
        "  err_type_4 = f.read().splitlines() \n",
        "\n",
        "name_err_type_4 = []\n",
        "level_err_type_4 = []\n",
        "for i, element in enumerate(err_type_4):\n",
        "  info = element.split('/')[-1].split(' ')\n",
        "  name_err_type_4.append(info[0])\n",
        "  level_err_type_4.append(info[1].split('.')[0])\n",
        "  \n",
        "print(name_err_type_4)\n",
        "print(level_err_type_4)"
      ],
      "metadata": {
        "colab": {
          "base_uri": "https://localhost:8080/"
        },
        "id": "Q5C3IPHK346q",
        "outputId": "6bf863dd-91d3-4959-b8f7-f51dceb8e8b4"
      },
      "execution_count": null,
      "outputs": [
        {
          "output_type": "stream",
          "name": "stdout",
          "text": [
            "['T2_TSE_SAG__0167_008.ima', 'T2_TSE_SAG__0442_008.ima', 'T2_TSE_SAG__0432_008.ima', 'T2_TSE_SAG__0464_008.ima', 'T2_TSE_SAG__0075_008.ima', 'T2_TSE_SAG__0436_008.ima', 'T2_TSE_SAG__0278_008.ima', 'T2_TSE_SAG__0214_008.ima', 'T2_TSE_SAG__0298_008.ima', 'T2_TSE_SAG__0356_008.ima', 'T2_TSE_SAG__0171_008.ima', 'T2_TSE_SAG__0290_008.ima', 'T2_TSE_SAG__0290_008.ima', 'T2_TSE_SAG__0345_008.ima', 'T2_TSE_SAG__0550_008.ima', 'T2_TSE_SAG__0271_008.ima', 'T2_TSE_SAG__0539_008.ima', 'T2_TSE_SAG__0484_008.ima', 'T2_TSE_SAG__0270_008.ima', 'T2_TSE_SAG__0228_008.ima', 'T2_TSE_SAG__0081_008.ima', 'T2_TSE_SAG__0479_008.ima', 'T2_TSE_SAG__0027_015.ima', 'T2_TSE_SAG__0515_008.ima', 'T2_TSE_SAG__0174_008.ima', 'T2_TSE_SAG__0062_008.ima', 'T2_TSE_SAG__0234_008.ima', 'T2_TSE_SAG__0322_008.ima', 'T2_TSE_SAG__0381_008.ima', 'T2_TSE_SAG__0126_008.ima', 'T2_TSE_SAG__0550_008.ima', 'T2_TSE_SAG__0039_008.ima', 'T2_TSE_SAG__0062_008.ima', 'T2_TSE_SAG__0467_008.ima', 'T2_TSE_SAG__0218_008.ima', 'T2_TSE_SAG__0380_008.ima', 'T2_TSE_SAG__0340_008.ima', 'T2_TSE_SAG__0514_008.ima', 'T2_TSE_SAG__0083_008.ima', 'T2_TSE_SAG__0338_008.ima', 'T2_TSE_SAG__0183_008.ima', 'T2_TSE_SAG__0509_008.ima', 'T2_TSE_SAG__0449_008.ima', 'T2_TSE_SAG__0101_008.ima', 'T2_TSE_SAG__0187_008.ima', 'T2_TSE_SAG__0130_008.ima', 'T2_TSE_SAG__0296_008.ima', 'T2_TSE_SAG__0362_008.ima', 'T2_TSE_SAG__0205_008.ima', 'T2_TSE_SAG__0278_008.ima', 'T2_TSE_SAG__0264_008.ima', 'T2_TSE_SAG__0502_008.ima', 'T2_TSE_SAG__0556_008.ima']\n",
            "['L2_L3', 'L1_L2', 'L5_S1', 'L3_L4', 'L2_L3', 'L2_L3', 'L3_L4', 'L3_L4', 'L3_L4', 'L2_L3', 'L1_L2', 'L5_S1', 'L1_L2', 'L1_L2', 'L1_L2', 'L1_L2', 'L1_L2', 'L3_L4', 'L1_L2', 'L3_L4', 'L3_L4', 'L3_L4', 'L1_L2', 'L4_L5', 'L2_L3', 'L4_L5', 'L2_L3', 'L1_L2', 'L3_L4', 'L1_L2', 'L5_S1', 'L2_L3', 'L5_S1', 'L5_S1', 'L4_L5', 'L2_L3', 'L2_L3', 'L2_L3', 'L2_L3', 'L3_L4', 'L5_S1', 'L3_L4', 'L4_L5', 'L1_L2', 'L2_L3', 'L2_L3', 'L4_L5', 'L3_L4', 'L4_L5', 'L4_L5', 'L4_L5', 'L4_L5', 'L5_S1']\n",
            "['T2_TSE_SAG__0461_008.ima', 'T2_TSE_SAG__0461_008.ima', 'T2_TSE_SAG__0249_008.ima']\n",
            "['L4_L5', 'L3_L4', 'L5_S1']\n",
            "['T2_TSE_SAG__0432_008.ima', 'T2_TSE_SAG__0464_008.ima', 'T2_TSE_SAG__0233_022.ima', 'T2_TSE_SAG__0551_008.ima']\n",
            "['L4_L5', 'L4_L5', 'L4_L5', 'L4_L5']\n"
          ]
        }
      ]
    },
    {
      "cell_type": "code",
      "source": [
        "\"\"\"\n",
        "Compares the agreement of Ladd and Takahashi on the mislabeled images to find how many of mislabeled\n",
        "images are also mislabeled by these to specialist\n",
        "\"\"\"\n",
        "\n",
        "path_to_scores_Ladd = '/content/drive/MyDrive/PhD/Barocas/grading/LumbarDiscJointScoring_Main/scores/Bryan Ladd'\n",
        "Ladd_disc = pd.read_csv(os.path.join(path_to_scores_Ladd,'Scores(discs)_Ladd.csv'), header=None)\n",
        "\n",
        "path_to_scores_Takahashi = '/content/drive/MyDrive/PhD/Barocas/grading/LumbarDiscJointScoring_Main/scores/Takashi Takahashi'\n",
        "Takahashi_disc = pd.read_csv(os.path.join(path_to_scores_Takahashi,'Scores(discs)_Takahashi.csv'), header=None)\n",
        "counter_1_and_2 = 0\n",
        "\n",
        "for i, element in enumerate(name_err_type_1_and_2):\n",
        "  Ladd_scores = list(Ladd_disc[Ladd_disc[0]==element].iloc[0,1:-1])\n",
        "  Takahashi_scores = list(Takahashi_disc[Takahashi_disc[0]==element].iloc[0,1:-1])\n",
        "  if level_err_type_1_and_2[i]=='L1_L2':\n",
        "    if (Ladd_scores[0] != Takahashi_scores[0]):\n",
        "      counter_1_and_2 += 1\n",
        "  elif level_err_type_1_and_2[i]=='L2_L3':\n",
        "    if (Ladd_scores[1] != Takahashi_scores[1]):\n",
        "      counter_1_and_2 += 1 \n",
        "  elif level_err_type_1_and_2[i]=='L3_L4':\n",
        "    if (Ladd_scores[2] != Takahashi_scores[2]):\n",
        "      counter_1_and_2 += 1 \n",
        "  elif level_err_type_1_and_2[i]=='L4_L5':\n",
        "    if (Ladd_scores[3] != Takahashi_scores[3]):\n",
        "      counter_1_and_2 += 1  \n",
        "  else:\n",
        "    if (Ladd_scores[4] != Takahashi_scores[4]):\n",
        "      counter_1_and_2 += 1  \n",
        "\n",
        "  # print(level_err_type_1_and_2[i])\n",
        "  # print(Ladd_scores)\n",
        "  # print(Takahashi_scores)\n",
        "  # print()\n",
        "\n",
        "\n",
        "counter_3 = 0\n",
        "for i, element in enumerate(name_err_type_3):\n",
        "  Ladd_scores = list(Ladd_disc[Ladd_disc[0]==element].iloc[0,1:-1])\n",
        "  Takahashi_scores = list(Takahashi_disc[Takahashi_disc[0]==element].iloc[0,1:-1])\n",
        "  if level_err_type_3[i]=='L1_L2':\n",
        "    if (Ladd_scores[0] != Takahashi_scores[0]):\n",
        "      counter_3 += 1\n",
        "  elif level_err_type_3[i]=='L2_L3':\n",
        "    if (Ladd_scores[1] != Takahashi_scores[1]):\n",
        "      counter_3 += 1 \n",
        "  elif level_err_type_3[i]=='L3_L4':\n",
        "    if (Ladd_scores[2] != Takahashi_scores[2]):\n",
        "      counter_3 += 1 \n",
        "  elif level_err_type_3[i]=='L4_L5':\n",
        "    if (Ladd_scores[3] != Takahashi_scores[3]):\n",
        "      counter_3 += 1  \n",
        "  else:\n",
        "    if (Ladd_scores[4] != Takahashi_scores[4]):\n",
        "      counter_3 += 1  \n",
        "\n",
        "  # print(level_err_type_3[i])\n",
        "  # print(Ladd_scores)\n",
        "  # print(Takahashi_scores)\n",
        "  # print()\n",
        "  \n",
        "\n",
        "counter_4 = 0\n",
        "for i, element in enumerate(name_err_type_4):\n",
        "  Ladd_scores = list(Ladd_disc[Ladd_disc[0]==element].iloc[0,1:-1])\n",
        "  Takahashi_scores = list(Takahashi_disc[Takahashi_disc[0]==element].iloc[0,1:-1])\n",
        "  if level_err_type_4[i]=='L1_L2':\n",
        "    if (Ladd_scores[0] != Takahashi_scores[0]):\n",
        "      counter_4 += 1\n",
        "  elif level_err_type_4[i]=='L2_L3':\n",
        "    if (Ladd_scores[1] != Takahashi_scores[1]):\n",
        "      counter_4 += 1 \n",
        "  elif level_err_type_4[i]=='L3_L4':\n",
        "    if (Ladd_scores[2] != Takahashi_scores[2]):\n",
        "      counter_4 += 1 \n",
        "  elif level_err_type_4[i]=='L4_L5':\n",
        "    if (Ladd_scores[3] != Takahashi_scores[3]):\n",
        "      counter_4 += 1  \n",
        "  else:\n",
        "    if (Ladd_scores[4] != Takahashi_scores[4]):\n",
        "      counter_4 += 1  \n",
        "\n",
        "  # print(level_err_type_4[i])\n",
        "  # print(Ladd_scores)\n",
        "  # print(Takahashi_scores)\n",
        "  # print()\n",
        "\n",
        "\n",
        "print(counter_1_and_2)\n",
        "print(counter_3)\n",
        "print(counter_4)\n",
        "\n"
      ],
      "metadata": {
        "colab": {
          "base_uri": "https://localhost:8080/"
        },
        "id": "UhG5YYKDtU4K",
        "outputId": "f6067371-dd68-4c5b-a3ac-1d7c9450699d"
      },
      "execution_count": null,
      "outputs": [
        {
          "output_type": "stream",
          "name": "stdout",
          "text": [
            "34\n",
            "3\n",
            "3\n"
          ]
        }
      ]
    }
  ]
}