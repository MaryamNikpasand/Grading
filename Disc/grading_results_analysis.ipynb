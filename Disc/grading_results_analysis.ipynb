{
  "nbformat": 4,
  "nbformat_minor": 0,
  "metadata": {
    "colab": {
      "name": "grading_results_analysis.ipynb",
      "provenance": [],
      "mount_file_id": "1OvKqeuhGReyL5b2jg5mRda5ROoJQxWog",
      "authorship_tag": "ABX9TyPWxNLiPzMAMEYc0y43Wz3b",
      "include_colab_link": true
    },
    "kernelspec": {
      "name": "python3",
      "display_name": "Python 3"
    },
    "language_info": {
      "name": "python"
    }
  },
  "cells": [
    {
      "cell_type": "markdown",
      "metadata": {
        "id": "view-in-github",
        "colab_type": "text"
      },
      "source": [
        "<a href=\"https://colab.research.google.com/github/MaryamNikpasand/Grading/blob/main/Disc/grading_results_analysis.ipynb\" target=\"_parent\"><img src=\"https://colab.research.google.com/assets/colab-badge.svg\" alt=\"Open In Colab\"/></a>"
      ]
    },
    {
      "cell_type": "code",
      "source": [
        "import numpy as np\n",
        "import matplotlib.pyplot as plt\n",
        "import pandas as pd\n",
        "from pathlib import Path"
      ],
      "metadata": {
        "id": "gr_E-8ikNvIC"
      },
      "execution_count": 1,
      "outputs": []
    },
    {
      "cell_type": "markdown",
      "source": [
        "# inter rater reliability (disc)"
      ],
      "metadata": {
        "id": "uN4lvF8hN20_"
      }
    },
    {
      "cell_type": "markdown",
      "source": [
        "### pearson's correlation"
      ],
      "metadata": {
        "id": "yXpYW3XTgt60"
      }
    },
    {
      "cell_type": "code",
      "execution_count": 2,
      "metadata": {
        "id": "yrrOWi1BNdNR"
      },
      "outputs": [],
      "source": [
        "filepath_Disc = Path('/content/drive/MyDrive/PhD/Barocas/grading/LumbarDiscJointScoring_Main/scores/')\n",
        "disc_excel_grades = [_ for _ in filepath_Disc.glob('*/Scores(discs)*.csv')]\n",
        "disc_excel_grades.sort()\n",
        "\n",
        "df_Arin = pd.read_csv(disc_excel_grades[0], header=None, usecols=[0, 1, 2, 3, 4, 5])\n",
        "df_ladd = pd.read_csv(disc_excel_grades[1], header=None, usecols=[0, 1, 2, 3, 4, 5])\n",
        "df_jill = pd.read_csv(disc_excel_grades[2], header=None, usecols=[0, 1, 2, 3, 4, 5])\n",
        "df_taka = pd.read_csv(disc_excel_grades[3], header=None, usecols=[0, 1, 2, 3, 4, 5])"
      ]
    },
    {
      "cell_type": "code",
      "source": [
        "def redistribute(df):\n",
        "    \"\"\"\n",
        "    this function takes as input a dataframe such as df_ladd\n",
        "    divides each row into five rows, \n",
        "    adds ' L1_L2.png' to the end of the name, and keeps the right label\n",
        "    we need to do this because we want to be consistent with results from regression/classification models\n",
        "    \"\"\"\n",
        "    fnames = {1:' L1_L2.png', 2: ' L2_L3.png', 3: ' L3_L4.png', 4: ' L4_L5.png', 5: ' L5_S1.png'}\n",
        "    names = []\n",
        "    values = []\n",
        "    for i in range(len(df)):\n",
        "        k = df.iloc[i, 0]\n",
        "        for j in range(1,6):\n",
        "            v = df.iloc[i, j]\n",
        "            if ~np.isnan(v):  # remove nan\n",
        "              names.append(k+fnames[j])\n",
        "              values.append(v)\n",
        "    return pd.DataFrame({'name':names, 'label':values})\n",
        "\n",
        "df_Arin_per_level = redistribute(df_Arin).rename(columns={'label':'Arin_label'})\n",
        "df_ladd_per_level = redistribute(df_ladd).rename(columns={'label':'ladd_label'})\n",
        "df_taka_per_level = redistribute(df_taka).rename(columns={'label':'taka_label'})\n",
        "df_jill_per_level = redistribute(df_jill).rename(columns={'label':'jill_label'})"
      ],
      "metadata": {
        "id": "KE0MOPNBOnEL"
      },
      "execution_count": 3,
      "outputs": []
    },
    {
      "cell_type": "code",
      "source": [
        "df_ladd_taka = df_ladd_per_level.merge(df_taka_per_level, how='inner', on='name')  # find intersection, keep both labels"
      ],
      "metadata": {
        "id": "XX-wifXmPA7Q"
      },
      "execution_count": 4,
      "outputs": []
    },
    {
      "cell_type": "code",
      "source": [
        "# correlation between ladd and taka is 0.70\n",
        "r_irr = np.corrcoef(x=df_ladd_taka.ladd_label.to_numpy(), y=df_ladd_taka.taka_label.to_numpy())\n",
        "print(r_irr[0, 1])"
      ],
      "metadata": {
        "colab": {
          "base_uri": "https://localhost:8080/"
        },
        "id": "DoCOsgGIaMbd",
        "outputId": "f2c78225-1a4f-4aa7-ad79-50111ae0c619"
      },
      "execution_count": 5,
      "outputs": [
        {
          "output_type": "stream",
          "name": "stdout",
          "text": [
            "0.7011419471270696\n"
          ]
        }
      ]
    },
    {
      "cell_type": "markdown",
      "source": [
        "### percent agreement"
      ],
      "metadata": {
        "id": "1R7ty6gIhDLO"
      }
    },
    {
      "cell_type": "code",
      "source": [
        "ladd_taka_array = df_ladd_taka.iloc[:, 1:].to_numpy()\n",
        "agree = np.where(ladd_taka_array[:, 0] == ladd_taka_array[:, 1])[0].shape[0]\n",
        "percent_agreement = agree/ladd_taka_array.shape[0]\n",
        "print(percent_agreement)"
      ],
      "metadata": {
        "colab": {
          "base_uri": "https://localhost:8080/"
        },
        "id": "bThUHt2YhHFM",
        "outputId": "8eb727ff-cb5e-4736-d906-9617e44dbd9c"
      },
      "execution_count": 6,
      "outputs": [
        {
          "output_type": "stream",
          "name": "stdout",
          "text": [
            "0.648473282442748\n"
          ]
        }
      ]
    },
    {
      "cell_type": "markdown",
      "source": [
        "### visualizations\n"
      ],
      "metadata": {
        "id": "UYFmbMF8aTxQ"
      }
    },
    {
      "cell_type": "code",
      "source": [
        "ladd_taka_array = df_ladd_taka.iloc[:, 1:].to_numpy()\n",
        "confusion_matrix = np.histogram2d(x=ladd_taka_array[:,0], y=ladd_taka_array[:,1], bins=[5, 5], range=[[0.5,5.5], [0.5, 5.5]])[0]\n",
        "print(confusion_matrix)\n",
        "\n",
        "# another way of calculating percent agreement or accuracy\n",
        "# is to sum diagonal elements (correct or agreement)\n",
        "# divide by the sum of the entire matrix\n",
        "pct_agreement = confusion_matrix.trace()/confusion_matrix.sum()\n",
        "print('percent agreement', pct_agreement)"
      ],
      "metadata": {
        "colab": {
          "base_uri": "https://localhost:8080/"
        },
        "id": "3fbTiqa_RscB",
        "outputId": "4deb8f77-79d4-47f9-8745-632edc331f80"
      },
      "execution_count": 7,
      "outputs": [
        {
          "output_type": "stream",
          "name": "stdout",
          "text": [
            "[[  0.  25.  22.   1.   0.]\n",
            " [  3. 274. 333.   2.   0.]\n",
            " [  2. 244. 705.  45.   3.]\n",
            " [  0.  11. 176. 678.  11.]\n",
            " [  0.   0.   6.  37.  42.]]\n",
            "percent agreement 0.648473282442748\n"
          ]
        }
      ]
    },
    {
      "cell_type": "code",
      "source": [
        "plt.figure()\n",
        "plt.imshow(confusion_matrix, origin='lower', cmap=plt.cm.gray_r)\n",
        "plt.colorbar()\n",
        "plt.xticks(ticks=[0, 1, 2, 3, 4], labels=[1, 2, 3, 4, 5])\n",
        "plt.yticks(ticks=[0, 1, 2, 3, 4], labels=[1, 2, 3, 4, 5])\n",
        "plt.xlabel('rater_1')\n",
        "plt.ylabel('rater_2')\n",
        "plt.show()\n"
      ],
      "metadata": {
        "colab": {
          "base_uri": "https://localhost:8080/",
          "height": 283
        },
        "id": "5jgR7QVoe6a5",
        "outputId": "4105eb9d-7004-4789-88a5-dc0253551ea3"
      },
      "execution_count": 8,
      "outputs": [
        {
          "output_type": "display_data",
          "data": {
            "image/png": "[encoded data removed]",
            "text/plain": [
              "<Figure size 432x288 with 2 Axes>"
            ]
          },
          "metadata": {
            "needs_background": "light"
          }
        }
      ]
    },
    {
      "cell_type": "code",
      "source": [
        "x = np.array([1, 2, 3, 4, 5])\n",
        "y = np.array([1, 2, 3, 4, 5])\n",
        "xv, yv = np.meshgrid(x, y)\n",
        "\n",
        "plt.figure()\n",
        "plt.scatter(xv, yv, s=confusion_matrix)\n",
        "plt.xticks(ticks=[1, 2, 3, 4, 5])\n",
        "plt.yticks(ticks=[1, 2, 3, 4, 5])\n",
        "plt.xlabel('rater_1')\n",
        "plt.ylabel('rater_2')\n",
        "plt.show()"
      ],
      "metadata": {
        "colab": {
          "base_uri": "https://localhost:8080/",
          "height": 280
        },
        "id": "Cu2j49WZXGC7",
        "outputId": "1913f1d9-713d-4347-dff8-057f7b5c6086"
      },
      "execution_count": 9,
      "outputs": [
        {
          "output_type": "display_data",
          "data": {
            "image/png": "[encoded data removed]",
            "text/plain": [
              "<Figure size 432x288 with 1 Axes>"
            ]
          },
          "metadata": {
            "needs_background": "light"
          }
        }
      ]
    },
    {
      "cell_type": "markdown",
      "source": [
        "# regression model results"
      ],
      "metadata": {
        "id": "idG-vhBYgdDX"
      }
    },
    {
      "cell_type": "code",
      "source": [
        "df_regression_results = pd.read_csv('/content/drive/MyDrive/PhD/Barocas/grading/MyModels/DiscGrade/regression/regression_test_results.csv')\n",
        "regression_results_array = df_regression_results.iloc[:, 2:].to_numpy()"
      ],
      "metadata": {
        "id": "qyXp0kzTgDts"
      },
      "execution_count": 10,
      "outputs": []
    },
    {
      "cell_type": "code",
      "source": [
        "# correlation between regression results and average_grade is 0.82\n",
        "r_reg = np.corrcoef(x=regression_results_array[:,0], y=regression_results_array[:,1])\n",
        "print(r_reg[0, 1])"
      ],
      "metadata": {
        "colab": {
          "base_uri": "https://localhost:8080/"
        },
        "id": "lHsszZxOgcDf",
        "outputId": "f501348f-33b0-4f32-bb91-94eddb672eee"
      },
      "execution_count": 11,
      "outputs": [
        {
          "output_type": "stream",
          "name": "stdout",
          "text": [
            "0.8337336073655344\n"
          ]
        }
      ]
    },
    {
      "cell_type": "code",
      "source": [
        "plt.figure()\n",
        "plt.scatter(x=regression_results_array[:,1], y=regression_results_array[:,0], alpha=0.33)\n",
        "plt.ylabel('regression result')\n",
        "plt.xlabel('average grade')\n",
        "plt.show()"
      ],
      "metadata": {
        "colab": {
          "base_uri": "https://localhost:8080/",
          "height": 279
        },
        "id": "UDMmSjewiKuT",
        "outputId": "5a98b8d8-6b1f-4ffa-f38a-3effc4434a1a"
      },
      "execution_count": 12,
      "outputs": [
        {
          "output_type": "display_data",
          "data": {
            "image/png": "[encoded data removed]",
            "text/plain": [
              "<Figure size 432x288 with 1 Axes>"
            ]
          },
          "metadata": {
            "needs_background": "light"
          }
        }
      ]
    },
    {
      "cell_type": "code",
      "source": [
        "confusion_matrix_reg = np.histogram2d(x=regression_results_array[:,0], y=regression_results_array[:,1], bins=[5, 5], range=[[0.5,5.5], [0.5, 5.5]])[0]\n",
        "# print(confusion_matrix_reg)\n",
        "\n",
        "# regression accuracy using confusion matrix\n",
        "regression_accuracy = confusion_matrix_reg.trace()/confusion_matrix_reg.sum()  # or percent agreement = sum(diagonal_elements)/sum(entire matrix)\n",
        "print('regression accuracy', regression_accuracy)\n",
        "\n",
        "confusion_matrix_reg[confusion_matrix_reg==0]=np.nan  # for plotting purposes"
      ],
      "metadata": {
        "colab": {
          "base_uri": "https://localhost:8080/"
        },
        "id": "3O9j-MfVXq4u",
        "outputId": "30fd23b6-ecd3-44fc-cae7-ae04e241cb4f"
      },
      "execution_count": 13,
      "outputs": [
        {
          "output_type": "stream",
          "name": "stdout",
          "text": [
            "regression accuracy 0.7116104868913857\n"
          ]
        }
      ]
    },
    {
      "cell_type": "code",
      "source": [
        "plt.figure()\n",
        "plt.imshow(confusion_matrix_reg, origin='lower', cmap=plt.cm.summer_r)\n",
        "plt.colorbar()\n",
        "plt.xticks(ticks=[0, 1, 2, 3, 4], labels=[1, 2, 3, 4, 5])\n",
        "plt.yticks(ticks=[0, 1, 2, 3, 4], labels=[1, 2, 3, 4, 5])\n",
        "plt.xlabel('average grade')\n",
        "plt.ylabel('regression results')\n",
        "plt.show()"
      ],
      "metadata": {
        "colab": {
          "base_uri": "https://localhost:8080/",
          "height": 279
        },
        "id": "pyENEOWtkemU",
        "outputId": "f71fe1f7-cd97-40cc-cbe1-f44c4073182e"
      },
      "execution_count": 14,
      "outputs": [
        {
          "output_type": "display_data",
          "data": {
            "image/png": "[encoded data removed]",
            "text/plain": [
              "<Figure size 432x288 with 2 Axes>"
            ]
          },
          "metadata": {
            "needs_background": "light"
          }
        }
      ]
    },
    {
      "cell_type": "code",
      "source": [
        "x = np.array([1, 2, 3, 4, 5])\n",
        "y = np.array([1, 2, 3, 4, 5])\n",
        "xv, yv = np.meshgrid(x, y)\n",
        "\n",
        "plt.figure()\n",
        "plt.scatter(xv, yv, s=confusion_matrix_reg)\n",
        "plt.xticks(ticks=[1, 2, 3, 4, 5])\n",
        "plt.yticks(ticks=[1, 2, 3, 4, 5])\n",
        "plt.ylabel('regression results')\n",
        "plt.xlabel('average grade')\n",
        "plt.show()"
      ],
      "metadata": {
        "colab": {
          "base_uri": "https://localhost:8080/",
          "height": 279
        },
        "id": "oDEBmH8A0vW3",
        "outputId": "eb6885e2-90eb-48ab-c974-947d13dd07b9"
      },
      "execution_count": 15,
      "outputs": [
        {
          "output_type": "display_data",
          "data": {
            "image/png": "[encoded data removed]",
            "text/plain": [
              "<Figure size 432x288 with 1 Axes>"
            ]
          },
          "metadata": {
            "needs_background": "light"
          }
        }
      ]
    },
    {
      "cell_type": "markdown",
      "source": [
        "# classification results"
      ],
      "metadata": {
        "id": "2K0z5XM0nksc"
      }
    },
    {
      "cell_type": "code",
      "source": [
        "df_classification_results = pd.read_csv('/content/drive/MyDrive/PhD/Barocas/grading/MyModels/DiscGrade/3D_CTscan/classification_test_results.csv', index_col=0)\n",
        "classification_results_array = df_classification_results.iloc[:, 0:].to_numpy()\n"
      ],
      "metadata": {
        "id": "YE0qKs-zmEZ5"
      },
      "execution_count": 16,
      "outputs": []
    },
    {
      "cell_type": "code",
      "source": [
        "# pearson correlation is 0.82 (between classificaiton results and labels)\n",
        "r_class = np.corrcoef(x=classification_results_array[:,0], y=classification_results_array[:,1])\n",
        "print(r_class[0, 1])"
      ],
      "metadata": {
        "colab": {
          "base_uri": "https://localhost:8080/"
        },
        "id": "m3KMUZoAzN0C",
        "outputId": "3604620b-6ace-417d-8f2e-7f35ae8e1491"
      },
      "execution_count": 17,
      "outputs": [
        {
          "output_type": "stream",
          "name": "stdout",
          "text": [
            "0.8174157034286356\n"
          ]
        }
      ]
    },
    {
      "cell_type": "code",
      "source": [
        "# percent agreement is 0.78 (between classificaiton results and labels)\n",
        "agree = np.where(classification_results_array[:, 0] == classification_results_array[:, 1])[0].shape[0]\n",
        "percent_agreement = agree/classification_results_array.shape[0]\n",
        "print(percent_agreement)"
      ],
      "metadata": {
        "colab": {
          "base_uri": "https://localhost:8080/"
        },
        "id": "BBgma_jez85i",
        "outputId": "3fc5aca7-2d6f-4121-911f-106e50f87bcc"
      },
      "execution_count": 18,
      "outputs": [
        {
          "output_type": "stream",
          "name": "stdout",
          "text": [
            "0.7827715355805244\n"
          ]
        }
      ]
    },
    {
      "cell_type": "code",
      "source": [
        "confusion_matrix_class = np.histogram2d(x=classification_results_array[:,0], y=classification_results_array[:,1], bins=[5, 5], range=[[0.5,5.5], [0.5, 5.5]])[0]\n",
        "\n",
        "# classification accuracy using confusion matrix\n",
        "classification_accuracy = confusion_matrix_class.trace()/confusion_matrix_class.sum()  # or percent agreement = sum(diagonal_elements)/sum(entire matrix)\n",
        "print('classification accuracy', classification_accuracy)\n",
        "\n",
        "confusion_matrix_class[confusion_matrix_class==0]=np.nan  # for plotting purposes\n",
        "\n",
        "print(confusion_matrix_class)"
      ],
      "metadata": {
        "colab": {
          "base_uri": "https://localhost:8080/"
        },
        "id": "eDM35JYa0F9H",
        "outputId": "254f0ff1-77d3-4bb2-e459-a8338b6d8ef8"
      },
      "execution_count": 19,
      "outputs": [
        {
          "output_type": "stream",
          "name": "stdout",
          "text": [
            "classification accuracy 0.7827715355805244\n",
            "[[nan nan nan nan nan]\n",
            " [ 3. 45. 11. nan nan]\n",
            " [ 3. 17. 80.  7.  1.]\n",
            " [nan nan  9. 78.  2.]\n",
            " [nan nan  1.  4.  6.]]\n"
          ]
        }
      ]
    },
    {
      "cell_type": "code",
      "source": [
        "plt.figure()\n",
        "plt.imshow(confusion_matrix_class, origin='lower', cmap=plt.cm.summer_r)\n",
        "plt.colorbar()\n",
        "plt.xticks(ticks=[0, 1, 2, 3, 4], labels=[1, 2, 3, 4, 5])\n",
        "plt.yticks(ticks=[0, 1, 2, 3, 4], labels=[1, 2, 3, 4, 5])\n",
        "plt.ylabel('classification results')\n",
        "plt.xlabel('label')\n",
        "plt.show()\n"
      ],
      "metadata": {
        "colab": {
          "base_uri": "https://localhost:8080/",
          "height": 283
        },
        "id": "RSeXhDOi1M1m",
        "outputId": "6f319f18-582d-42e4-815a-6fb9c40e3c5d"
      },
      "execution_count": 20,
      "outputs": [
        {
          "output_type": "display_data",
          "data": {
            "image/png": "[encoded data removed]",
            "text/plain": [
              "<Figure size 432x288 with 2 Axes>"
            ]
          },
          "metadata": {
            "needs_background": "light"
          }
        }
      ]
    },
    {
      "cell_type": "code",
      "source": [
        "x = np.array([1, 2, 3, 4, 5])\n",
        "y = np.array([1, 2, 3, 4, 5])\n",
        "xv, yv = np.meshgrid(x, y)\n",
        "\n",
        "plt.figure()\n",
        "plt.scatter(xv, yv, s=confusion_matrix_class)\n",
        "plt.xticks(ticks=[1, 2, 3, 4, 5])\n",
        "plt.yticks(ticks=[1, 2, 3, 4, 5])\n",
        "plt.ylabel('classification results')\n",
        "plt.xlabel('label')\n",
        "plt.show()"
      ],
      "metadata": {
        "colab": {
          "base_uri": "https://localhost:8080/",
          "height": 279
        },
        "id": "5-VwLzOG1T_l",
        "outputId": "f0cc8e4e-864c-4f12-b429-35509506e8ef"
      },
      "execution_count": 21,
      "outputs": [
        {
          "output_type": "display_data",
          "data": {
            "image/png": "[encoded data removed]",
            "text/plain": [
              "<Figure size 432x288 with 1 Axes>"
            ]
          },
          "metadata": {
            "needs_background": "light"
          }
        }
      ]
    },
    {
      "cell_type": "markdown",
      "source": [
        "# final plots"
      ],
      "metadata": {
        "id": "fjNHQGep6Lj4"
      }
    },
    {
      "cell_type": "code",
      "source": [
        "# not normalized (absolute numbers)\n",
        "confusion_matrix = np.histogram2d(x=ladd_taka_array[:,0], y=ladd_taka_array[:,1], bins=[5, 5], range=[[0.5,5.5], [0.5, 5.5]])[0]\n",
        "confusion_matrix_reg = np.histogram2d(x=regression_results_array[:,0], y=regression_results_array[:,1], bins=[5, 5], range=[[0.5,5.5], [0.5, 5.5]])[0]\n",
        "confusion_matrix_class = np.histogram2d(x=classification_results_array[:,0], y=classification_results_array[:,1], bins=[5, 5], range=[[0.5,5.5], [0.5, 5.5]])[0]\n",
        "\n",
        "confusion_matrix[confusion_matrix==0]=np.nan\n",
        "confusion_matrix_reg[confusion_matrix_reg==0]=np.nan\n",
        "confusion_matrix_class[confusion_matrix_class==0]=np.nan\n",
        "\n",
        "cm_choice = plt.cm.summer_r\n",
        "\n",
        "plt.figure(figsize=[15,4])\n",
        "plt.subplot(131)\n",
        "plt.imshow(confusion_matrix, origin='lower', cmap=cm_choice)\n",
        "plt.colorbar()\n",
        "plt.xticks(ticks=[0, 1, 2, 3, 4], labels=[1, 2, 3, 4, 5])\n",
        "plt.yticks(ticks=[0, 1, 2, 3, 4], labels=[1, 2, 3, 4, 5])\n",
        "plt.xlabel('rater 1 label')\n",
        "plt.ylabel('rater 2 label')\n",
        "plt.title('inter rater reliability')\n",
        "\n",
        "plt.subplot(132)\n",
        "plt.imshow(confusion_matrix_class, origin='lower', cmap=cm_choice)\n",
        "plt.colorbar()\n",
        "plt.xticks(ticks=[0, 1, 2, 3, 4], labels=[1, 2, 3, 4, 5])\n",
        "plt.yticks(ticks=[0, 1, 2, 3, 4], labels=[1, 2, 3, 4, 5])\n",
        "plt.ylabel('classification results')\n",
        "plt.xlabel('label')\n",
        "plt.title('inter rater reliability')\n",
        "\n",
        "plt.subplot(133)\n",
        "plt.imshow(confusion_matrix_reg, origin='lower', cmap=cm_choice)\n",
        "plt.colorbar()\n",
        "plt.xticks(ticks=[0, 1, 2, 3, 4], labels=[1, 2, 3, 4, 5])\n",
        "plt.yticks(ticks=[0, 1, 2, 3, 4], labels=[1, 2, 3, 4, 5])\n",
        "plt.ylabel('regression results')\n",
        "plt.xlabel('average label')\n",
        "plt.title('inter rater reliability')\n",
        "\n",
        "plt.show()\n"
      ],
      "metadata": {
        "colab": {
          "base_uri": "https://localhost:8080/",
          "height": 275
        },
        "id": "vuJAYeV71yrZ",
        "outputId": "515b3b65-47c4-4e41-a351-5be4dc6e6f7d"
      },
      "execution_count": 22,
      "outputs": [
        {
          "output_type": "display_data",
          "data": {
            "image/png": "[encoded data removed]",
            "text/plain": [
              "<Figure size 1080x288 with 6 Axes>"
            ]
          },
          "metadata": {
            "needs_background": "light"
          }
        }
      ]
    },
    {
      "cell_type": "code",
      "source": [
        "# not normalized (absolute numbers)\n",
        "confusion_matrix = np.histogram2d(x=ladd_taka_array[:,0], y=ladd_taka_array[:,1], bins=[5, 5], range=[[0.5,5.5], [0.5, 5.5]], density=True)[0]\n",
        "confusion_matrix_reg = np.histogram2d(x=regression_results_array[:,0], y=regression_results_array[:,1], bins=[5, 5], range=[[0.5,5.5], [0.5, 5.5]], density=True)[0]\n",
        "confusion_matrix_class = np.histogram2d(x=classification_results_array[:,0], y=classification_results_array[:,1], bins=[5, 5], range=[[0.5,5.5], [0.5, 5.5]], density=True)[0]\n",
        "\n",
        "confusion_matrix[confusion_matrix==0]=np.nan\n",
        "confusion_matrix_reg[confusion_matrix_reg==0]=np.nan\n",
        "confusion_matrix_class[confusion_matrix_class==0]=np.nan\n",
        "\n",
        "cm_choice = plt.cm.summer_r\n",
        "\n",
        "plt.figure(figsize=[15,4])\n",
        "plt.subplot(131)\n",
        "plt.imshow(confusion_matrix, origin='lower', cmap=cm_choice, clim=[0, 0.4])\n",
        "plt.colorbar()\n",
        "plt.xticks(ticks=[0, 1, 2, 3, 4], labels=[1, 2, 3, 4, 5])\n",
        "plt.yticks(ticks=[0, 1, 2, 3, 4], labels=[1, 2, 3, 4, 5])\n",
        "plt.xlabel('rater 1 label')\n",
        "plt.ylabel('rater 2 label')\n",
        "plt.title('inter rater reliability, r={:.2f}'.format(r_irr[0,1]))\n",
        "\n",
        "plt.subplot(132)\n",
        "plt.imshow(confusion_matrix_class, origin='lower', cmap=cm_choice, clim=[0, 0.4])\n",
        "plt.colorbar()\n",
        "plt.xticks(ticks=[0, 1, 2, 3, 4], labels=[1, 2, 3, 4, 5])\n",
        "plt.yticks(ticks=[0, 1, 2, 3, 4], labels=[1, 2, 3, 4, 5])\n",
        "plt.ylabel('classification results')\n",
        "plt.xlabel('label')\n",
        "plt.title('classification conf. mat., r={:.2f}'.format(r_class[0,1]))\n",
        "\n",
        "plt.subplot(133)\n",
        "plt.imshow(confusion_matrix_reg, origin='lower', cmap=cm_choice, clim=[0, 0.4])\n",
        "plt.colorbar()\n",
        "plt.xticks(ticks=[0, 1, 2, 3, 4], labels=[1, 2, 3, 4, 5])\n",
        "plt.yticks(ticks=[0, 1, 2, 3, 4], labels=[1, 2, 3, 4, 5])\n",
        "plt.ylabel('regression results')\n",
        "plt.xlabel('average label')\n",
        "plt.title('regression conf. mat., r={:.2f}'.format(r_reg[0,1]))\n",
        "\n",
        "plt.show()\n"
      ],
      "metadata": {
        "colab": {
          "base_uri": "https://localhost:8080/",
          "height": 275
        },
        "id": "3VmRKTGE7Hxb",
        "outputId": "716af906-582f-4c92-c2cb-e30c272bbf55"
      },
      "execution_count": 23,
      "outputs": [
        {
          "output_type": "display_data",
          "data": {
            "image/png": "[encoded data removed]",
            "text/plain": [
              "<Figure size 1080x288 with 6 Axes>"
            ]
          },
          "metadata": {
            "needs_background": "light"
          }
        }
      ]
    },
    {
      "cell_type": "code",
      "source": [
        ""
      ],
      "metadata": {
        "id": "szkGjZ-JFmnI"
      },
      "execution_count": null,
      "outputs": []
    }
  ]
}